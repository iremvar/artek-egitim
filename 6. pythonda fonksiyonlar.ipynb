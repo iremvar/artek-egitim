{
 "cells": [
  {
   "cell_type": "code",
   "execution_count": 1,
   "metadata": {},
   "outputs": [],
   "source": [
    "# Metotlar\n",
    "\n",
    "#method\n",
    "\n",
    "# list = [1,2,3]\n",
    "\n",
    "# # list.append(4)\n",
    "# # list.pop(4)\n",
    "\n",
    "# print(type(list))\n",
    "# print(list)\n",
    "    \n",
    "# myString = 'Hello'\n",
    "# print(myString.upper())\n",
    "\n",
    "# print(type(myString))\n",
    "    \n",
    "    \n",
    "    \n",
    "#fonksiyon\n",
    "\n",
    "\n",
    "\n",
    "\n",
    "\n",
    "\n"
   ]
  },
  {
   "cell_type": "code",
   "execution_count": null,
   "metadata": {},
   "outputs": [],
   "source": []
  }
 ],
 "metadata": {
  "kernelspec": {
   "display_name": "Python 3",
   "language": "python",
   "name": "python3"
  },
  "language_info": {
   "codemirror_mode": {
    "name": "ipython",
    "version": 3
   },
   "file_extension": ".py",
   "mimetype": "text/x-python",
   "name": "python",
   "nbconvert_exporter": "python",
   "pygments_lexer": "ipython3",
   "version": "3.11.7"
  }
 },
 "nbformat": 4,
 "nbformat_minor": 2
}
