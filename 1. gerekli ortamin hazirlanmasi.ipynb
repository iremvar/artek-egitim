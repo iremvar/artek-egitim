{
 "cells": [
  {
   "cell_type": "code",
   "execution_count": null,
   "metadata": {},
   "outputs": [],
   "source": [
    "#a.command line kullanimi\n",
    "\n",
    "list # ilgili klasor icerisinde olan butun dosyalari listeler\n",
    "dir # windowsa ozel listeleme komutu\n",
    "cd klasor_adi # baska bir klasore gecmek icin \n",
    "cd.. #bir alt dosyaya gecmek icin\n",
    "cd\\ #ana dosyaya gecmek icin\n",
    "class #ekranı temizlemek icin\n",
    "clear #mac ve linux icin temizleme komutu\n",
    "mkdir klasor_adi #klasor olusturmak icin\n",
    "echo $null >> dosya_adi.py #klasor icinde dosya acmak icin (py uzantılı)\n",
    "code . #dosyayı vscode uzerinden acmak icin\n",
    "del dosya_adi.py #dosya silmek icin\n",
    "rmdir klasor adi # klasor silmek icin\n",
    "rm dosyaadi # linux ve mac icin dosya silme\n",
    "\n",
    "#b. ilk python uygulaması\n",
    "\n",
    "py dosya_adi \n",
    "python dosya_adi #dosyayi terminalde calistirir\n",
    "\n",
    "\n"
   ]
  }
 ],
 "metadata": {
  "language_info": {
   "name": "python"
  }
 },
 "nbformat": 4,
 "nbformat_minor": 2
}
